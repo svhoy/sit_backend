{
 "cells": [
  {
   "cell_type": "code",
   "execution_count": 1,
   "metadata": {},
   "outputs": [],
   "source": [
    "import numpy as np"
   ]
  },
  {
   "cell_type": "code",
   "execution_count": 5,
   "metadata": {},
   "outputs": [
    {
     "name": "stdout",
     "output_type": "stream",
     "text": [
      "5.5\n"
     ]
    }
   ],
   "source": [
    "test = np.array([1, 2, 3, 4, 5, 6, 7, 8, 9, 10])\n",
    "\n",
    "mean = np.mean(test)\n",
    "\n",
    "print(mean)"
   ]
  },
  {
   "cell_type": "code",
   "execution_count": 6,
   "metadata": {},
   "outputs": [
    {
     "name": "stdout",
     "output_type": "stream",
     "text": [
      "4.5\n"
     ]
    }
   ],
   "source": [
    "result_1 = 10 - mean\n",
    "\n",
    "print(result_1)"
   ]
  },
  {
   "cell_type": "code",
   "execution_count": 7,
   "metadata": {},
   "outputs": [
    {
     "name": "stdout",
     "output_type": "stream",
     "text": [
      "[9.]\n",
      "[9. 8.]\n",
      "[9. 8. 7.]\n",
      "[9. 8. 7. 6.]\n",
      "[9. 8. 7. 6. 5.]\n",
      "[9. 8. 7. 6. 5. 4.]\n",
      "[9. 8. 7. 6. 5. 4. 3.]\n",
      "[9. 8. 7. 6. 5. 4. 3. 2.]\n",
      "[9. 8. 7. 6. 5. 4. 3. 2. 1.]\n",
      "[9. 8. 7. 6. 5. 4. 3. 2. 1. 0.]\n",
      "4.5\n"
     ]
    }
   ],
   "source": [
    "buf = np.array([])\n",
    "for i in test:\n",
    "    buf = np.append(buf, 10 - i)\n",
    "    print(buf)\n",
    "\n",
    "result_2 = np.mean(buf)\n",
    "print(result_2)"
   ]
  }
 ],
 "metadata": {
  "kernelspec": {
   "display_name": ".venv",
   "language": "python",
   "name": "python3"
  },
  "language_info": {
   "codemirror_mode": {
    "name": "ipython",
    "version": 3
   },
   "file_extension": ".py",
   "mimetype": "text/x-python",
   "name": "python",
   "nbconvert_exporter": "python",
   "pygments_lexer": "ipython3",
   "version": "3.12.1"
  }
 },
 "nbformat": 4,
 "nbformat_minor": 2
}
