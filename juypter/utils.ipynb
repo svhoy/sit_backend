{
 "cells": [
  {
   "cell_type": "code",
   "execution_count": 1,
   "metadata": {},
   "outputs": [],
   "source": [
    "import numpy as np"
   ]
  },
  {
   "cell_type": "code",
   "execution_count": 2,
   "metadata": {},
   "outputs": [
    {
     "name": "stdout",
     "output_type": "stream",
     "text": [
      "[[0.00000000e+00 5.41074147e-07 5.41380451e-07]\n",
      " [5.40959700e-07 0.00000000e+00 5.41353090e-07]\n",
      " [5.41254993e-07 5.41397468e-07 0.00000000e+00]]\n"
     ]
    }
   ],
   "source": [
    "edm_measured = np.array(\n",
    "        [\n",
    "            [0, 162.1613, 162.2531],\n",
    "            [162.1270, 0, 162.2449],\n",
    "            [162.2155, 162.2582, 0],\n",
    "        ]\n",
    "    )\n",
    "\n",
    "edm_measured = edm_measured * (1/299702547)\n",
    "\n",
    "print(edm_measured)"
   ]
  },
  {
   "cell_type": "code",
   "execution_count": 3,
   "metadata": {},
   "outputs": [
    {
     "name": "stdout",
     "output_type": "stream",
     "text": [
      "[[0.0000000e+00 2.6406182e-08 2.6406182e-08]\n",
      " [2.6406182e-08 0.0000000e+00 2.6406182e-08]\n",
      " [2.6406182e-08 2.6406182e-08 0.0000000e+00]]\n"
     ]
    }
   ],
   "source": [
    "edm_real = np.array(\n",
    "        [\n",
    "            [0, 7.914, 7.914],\n",
    "            [7.914, 0, 7.914],\n",
    "            [7.914, 7.914, 0],\n",
    "        ]\n",
    "    )\n",
    "\n",
    "edm_real = edm_real * (1/299702547)\n",
    "\n",
    "print(edm_real)"
   ]
  }
 ],
 "metadata": {
  "kernelspec": {
   "display_name": ".venv",
   "language": "python",
   "name": "python3"
  },
  "language_info": {
   "codemirror_mode": {
    "name": "ipython",
    "version": 3
   },
   "file_extension": ".py",
   "mimetype": "text/x-python",
   "name": "python",
   "nbconvert_exporter": "python",
   "pygments_lexer": "ipython3",
   "version": "3.12.1"
  }
 },
 "nbformat": 4,
 "nbformat_minor": 2
}
