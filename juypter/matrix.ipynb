{
 "cells": [
  {
   "cell_type": "code",
   "execution_count": 7,
   "metadata": {},
   "outputs": [],
   "source": [
    "import numpy as np\n",
    "\n",
    "devices = [\"test1\", \"test2\", \"test3\"]\n",
    "distances = [0, 12.0, 13.0, 21.0, 0, 23.0, 31.0, 32.0, 0]\n"
   ]
  },
  {
   "cell_type": "code",
   "execution_count": 9,
   "metadata": {},
   "outputs": [
    {
     "name": "stdout",
     "output_type": "stream",
     "text": [
      "[[ 0. 12. 13.]\n",
      " [21.  0. 23.]\n",
      " [31. 32.  0.]]\n"
     ]
    }
   ],
   "source": [
    "def convert_list_to_matrix(list) -> np.ndarray:\n",
    "    len_devices = len(devices)\n",
    "    matrix = np.empty((len_devices, len_devices))\n",
    "    zeile = 0\n",
    "    for list_index in range(0, len(list)):\n",
    "        spalte = list_index % len_devices\n",
    "        if spalte == 0 and list_index != 0:\n",
    "            zeile += 1\n",
    "\n",
    "        matrix[zeile, spalte] = list[list_index]\n",
    "\n",
    "    return matrix\n",
    "\n",
    "print(convert_list_to_matrix(distances))"
   ]
  }
 ],
 "metadata": {
  "kernelspec": {
   "display_name": ".venv",
   "language": "python",
   "name": "python3"
  },
  "language_info": {
   "codemirror_mode": {
    "name": "ipython",
    "version": 3
   },
   "file_extension": ".py",
   "mimetype": "text/x-python",
   "name": "python",
   "nbconvert_exporter": "python",
   "pygments_lexer": "ipython3",
   "version": "3.11.1"
  },
  "orig_nbformat": 4
 },
 "nbformat": 4,
 "nbformat_minor": 2
}
