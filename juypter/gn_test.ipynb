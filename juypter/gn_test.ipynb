{
 "cells": [
  {
   "cell_type": "code",
   "execution_count": null,
   "metadata": {},
   "outputs": [],
   "source": [
    "import numpy as np\n"
   ]
  },
  {
   "cell_type": "code",
   "execution_count": null,
   "metadata": {},
   "outputs": [],
   "source": [
    "def convert_distance_to_tof(distances: float) -> float:\n",
    "    return (1 / 299702547) * distances"
   ]
  },
  {
   "cell_type": "code",
   "execution_count": null,
   "metadata": {},
   "outputs": [],
   "source": [
    "edm_real = convert_distance_to_tof(np.matrix([[0, 7.9214, 7.914],[7.914, 0, 7.914],[7.914, 7.914, 0]]))\n",
    "edm_measured = convert_distance_to_tof(np.matrix([[0, 162.1613, 162.2531],[162.1720, 0, 162.2449],[162.2155, 162.2582, 0]]))\n"
   ]
  },
  {
   "cell_type": "code",
   "execution_count": null,
   "metadata": {},
   "outputs": [],
   "source": [
    "def distance_func(delay_candidates):\n",
    "    row, column = edm_measured.shape\n",
    "    edm_candidate = np.empty((row, column))\n",
    "    for i in range(0, row):\n",
    "        for j in range(0, column):\n",
    "            if edm_measured[i, j] != 0:\n",
    "                edm_candidate[i, j] = (\n",
    "                    (4 * edm_measured[i, j])\n",
    "                    - (\n",
    "                        (2 * delay_candidates[i])\n",
    "                        + (2 * delay_candidates[j])\n",
    "                    )\n",
    "                ) / 4.0\n",
    "            else:\n",
    "                edm_candidate[i, j] = 0\n",
    "    norm_diff = np.linalg.norm(edm_real - edm_candidate)\n",
    "    return norm_diff\n",
    "\n",
    "def opt_func(X):\n",
    "    n_particles = X.shape[0]\n",
    "    dist = [distance_func(X[i]) for i in range(n_particles)]\n",
    "    return dist"
   ]
  }
 ],
 "metadata": {
  "language_info": {
   "name": "python"
  }
 },
 "nbformat": 4,
 "nbformat_minor": 2
}
