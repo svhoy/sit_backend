{
 "cells": [
  {
   "cell_type": "code",
   "execution_count": 36,
   "metadata": {},
   "outputs": [
    {
     "name": "stdout",
     "output_type": "stream",
     "text": [
      "TOF: -2.434264850727077e-07 \n",
      "Distance: 2.004 m\n"
     ]
    }
   ],
   "source": [
    "#Default\n",
    "# time_round_1 = 0.00180027086753398\n",
    "# time_round_2 = 0.00180028134491295 \n",
    "# time_reply_1 = 0.00180026073940098 \n",
    "# time_reply_2 = 0.00180026597809047\n",
    "\n",
    "# Cali Distnace messung\n",
    "# time_round_1 = 0.00180104374885559\n",
    "# time_round_2 = 0.0018010480562225\n",
    "# time_reply_1 = 0.00180000951513648\n",
    "# time_reply_2 = 0.0018000059062615\n",
    "\n",
    "# Test Cali Distance messung\n",
    "time_round_1 = 0.00180026108864695 \n",
    "time_round_2 = 0.00180026970338076 \n",
    "time_reply_1 = 0.00180022430140525 \n",
    "time_reply_2 = 0.00180022767744958 \n",
    "\n",
    "\n",
    "tof = ((time_round_1*time_round_2)-(time_reply_1*time_reply_2)-(2*2.630913330620677e-07*time_reply_1+2*2.630913330620677e-07*time_reply_2+8*(2.630913330620677e-07**2)))/(time_round_1+time_round_2+time_reply_1+time_reply_2 + 2.630913330620677e-07 * 4)\n",
    "\n",
    "print(f\"TOF: {tof} \")\n",
    "print(f\"Distance: {tof*299702547 } m\")"
   ]
  },
  {
   "cell_type": "markdown",
   "metadata": {},
   "source": [
    "TOF: 6.3737360108102794e-09"
   ]
  },
  {
   "cell_type": "code",
   "execution_count": 19,
   "metadata": {},
   "outputs": [
    {
     "name": "stdout",
     "output_type": "stream",
     "text": [
      "TOF DS-TWR: 6.373738869970471e-09 \n",
      "Distance DS_TWR: 1.9102257732430519 m\n"
     ]
    }
   ],
   "source": [
    "tof_dstwr = ((time_round_1 - time_reply_1)+(time_round_2-time_reply_2))/4\n",
    "\n",
    "print(f\"TOF DS-TWR: {tof_dstwr} \")\n",
    "print(f\"Distance DS_TWR: {tof_dstwr*299702547 } m\")"
   ]
  },
  {
   "cell_type": "code",
   "execution_count": 20,
   "metadata": {},
   "outputs": [
    {
     "name": "stdout",
     "output_type": "stream",
     "text": [
      "TOF SSTWR: 5.0640665000137655e-09 \n",
      "Distance SSTWR: 1.5177136282315011 m\n"
     ]
    }
   ],
   "source": [
    "tof_sstwr = (time_round_1 - time_reply_1)/2 \n",
    "\n",
    "print(f\"TOF SSTWR: {tof_sstwr} \")\n",
    "print(f\"Distance SSTWR: {tof_sstwr*299702547 } m\")"
   ]
  },
  {
   "cell_type": "code",
   "execution_count": 8,
   "metadata": {},
   "outputs": [
    {
     "name": "stdout",
     "output_type": "stream",
     "text": [
      "Test: 2.630913330620677e-07 \n"
     ]
    }
   ],
   "source": [
    "#  16385 / ( 499.2 * 128)\n",
    "test = 16385 * 1.026e-6 / 63898\n",
    "print(f\"Test: {test} \")"
   ]
  },
  {
   "cell_type": "code",
   "execution_count": 5,
   "metadata": {},
   "outputs": [
    {
     "name": "stdout",
     "output_type": "stream",
     "text": [
      "['a', 'b', 'c']\n",
      "['a', 'c', 'b']\n",
      "['b', 'a', 'c']\n",
      "['b', 'c', 'a']\n",
      "['c', 'a', 'b']\n",
      "['c', 'b', 'a']\n"
     ]
    }
   ],
   "source": [
    "from itertools import permutations\n",
    "\n",
    "# Ihre Liste\n",
    "liste = ['a', 'b', 'c']\n",
    "\n",
    "# Erstellen Sie alle Kombinationen von drei Elementen\n",
    "kombinationen = list(map(list, permutations(liste, 3)))\n",
    "\n",
    "# Drucken Sie die Kombinationen\n",
    "for kombination in kombinationen:\n",
    "    print(kombination)"
   ]
  },
  {
   "cell_type": "code",
   "execution_count": 16,
   "metadata": {},
   "outputs": [
    {
     "name": "stdout",
     "output_type": "stream",
     "text": [
      "5.261826661241354e-07\n"
     ]
    }
   ],
   "source": [
    "# test =  (2.2548947527697368e-07 + 2.8698660489796654e-07) \n",
    "# test = 2.630913330620677e-07 * 2\n",
    "print(test)"
   ]
  },
  {
   "cell_type": "code",
   "execution_count": 12,
   "metadata": {},
   "outputs": [
    {
     "name": "stdout",
     "output_type": "stream",
     "text": [
      "16385.0\n"
     ]
    }
   ],
   "source": [
    "dwt_units_ant_dly = test * 63898 / 1.026e-6\n",
    "\n",
    "print(dwt_units_ant_dly/2)"
   ]
  }
 ],
 "metadata": {
  "kernelspec": {
   "display_name": ".venv",
   "language": "python",
   "name": "python3"
  },
  "language_info": {
   "codemirror_mode": {
    "name": "ipython",
    "version": 3
   },
   "file_extension": ".py",
   "mimetype": "text/x-python",
   "name": "python",
   "nbconvert_exporter": "python",
   "pygments_lexer": "ipython3",
   "version": "3.12.1"
  }
 },
 "nbformat": 4,
 "nbformat_minor": 2
}
